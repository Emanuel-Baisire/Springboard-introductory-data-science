# import the required libraries here
import numpy as pd
import pandas as pd
import matplotlib.pyplot as plt
import json

# For convenience here, we are accessing the data in the working directory that contains our notebooks.
# Normal best practise is to keep your data separate, but this keeps things simple.
business = pd.read_json(r'C:\Users\ebaisire\Desktop\EB Backup\Springboard\business_1.json',encoding="utf8",lines=True)
business.shape
business.head()
business.info()
# task: create a list of columns to drop, call it drop_cols
# then go ahead and drop those columns from the DataFrame
cols = business['hours']
drop_cols = ['hours']
business.drop(drop_cols, axis=1, inplace=True)
business.head()
# print the first element of business['categories']
print(business.categories[0])
# what is the type of this element?
type(business.categories[0])
# if the first element were a list, this would return 'Tours', not 'T'
business.categories[0][0]
# task: split the categories column (a pandas Series) into lists of categories,
# e.g. the string "Category1, Category2" becomes the list ["Category1", "Category2"]
# hint: pass the argument pat = ', ?' in to split on a comma which may be followed by a space
business['categories'] = business['categories'].astype(str)
business['categories']
# task: count the frequency of each item in categories and keep the top twenty
# hint: the latter can be done by passing an argument to the head method
# assign the result to the variable category_counts - one line of code here:
business = business.loc[business['categories'].apply(lambda x: 'Restaurants' in x), :]
category_counts = business['categories'].value_counts().head(20)
category_counts
business.shape
# 'Restaurants', of course, is our most frequent entry because, by definition, it is
# present in every case! Plot a bar chart now of the frequencies of the other values.
category_counts.plot(kind='bar')
# task use a lambda function on the categories column again, but now you're not testing for
# 'Restaurant' but either 'Pizza or 'Italian'
# assign the result to italian_pizza (one line of code)
italian_pizza = business.loc[business['categories'].apply(lambda x: 'Italian' in x), :]
italian_pizza.head()
italian_pizza.shape
# task: use panda's to_csv DataFrame method to save the result to a file
# use the index argument to suppress saving the index
# use the columns argument to save only the business_id, review_count, stars, and state columns
italian_pizza.to_csv('business_list.csv', columns=['business_id', 'review_count', 'stars', 'state'], index=False)
italian_pizza.to_csv
pd.isna(business['categories']).sum()
