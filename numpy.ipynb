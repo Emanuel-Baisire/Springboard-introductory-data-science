slope  = 5
intecept = -1
x = [0, 1, 2, 3, 4, 5, 6]
straight_line = [slope * j + intecept for j in x] # equation for slope and intercept: y = slope * x + intercept
print(straight_line)

# task: import numpy
# one line of code here:
import numpy as np

x = np.array(x)
y = m*x + intecept # equation for slope and intercept: y = slope * x + intercept
print(y)

# task: create a scatter plot of X and Y
# Hint: either refer to matplotlib documentation or, after importing pyplot, use Jupyter's autocompletion
# suggestions to find the relevant scatter plot function
# one line of code here:

import matplotlib.pyplot as plt
plt.scatter(x,y);
