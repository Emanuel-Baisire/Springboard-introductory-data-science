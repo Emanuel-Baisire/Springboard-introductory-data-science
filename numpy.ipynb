slope  = 5
intecept = -1
x = [0, 1, 2, 3, 4, 5, 6]
straight_line = [slope * j + intecept for j in x] # equation for slope and intercept: y = slope * x + intercept
print(straight_line)
